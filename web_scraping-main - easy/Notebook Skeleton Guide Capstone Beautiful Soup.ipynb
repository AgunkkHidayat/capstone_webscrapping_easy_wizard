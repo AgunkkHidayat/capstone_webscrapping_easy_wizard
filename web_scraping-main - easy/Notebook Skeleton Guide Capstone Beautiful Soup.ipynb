{
 "cells": [
  {
   "cell_type": "markdown",
   "metadata": {},
   "source": [
    "# Capstone Webscrapping using BeautifulSoup\n",
    "\n",
    "This notebook contains guidances & tasks on the data processing for the application\n",
    "\n",
    "## background\n",
    "\n",
    "Dalam era informasi yang semakin digital, akses dan analisis data dari internet memiliki peran penting dalam pengambilan keputusan dan penelitian. Web scraping adalah teknik yang memungkinkan kita untuk mengumpulkan data secara otomatis dari berbagai situs web. Capstone ini bertujuan untuk latihan bagi pengguna Python untuk dapat mencoba melakukan web scraping\n",
    "\n",
    "Untuk Capstone ini akan diperkenalkan secara umum penggunaan library BeautifulSoup,  serta bagaimana cara mengambil dan mengurai data dari halaman web. \n",
    "Sebagai kesimpulan Capstone ini bertujuaan untuk untuk memberikan pemahaman yang lebih dalam tentang web scraping sebagai alat penting dalam eksplorasi data dan pengambilan informasi dari internet. Dengan menggunakan Python, kita dapat mengakses dan menganalisis data secara efisien, membuka pintu untuk penelitian yang lebih mendalam dan pengambilan keputusan yang lebih informasional dalam berbagai domain.\n",
    "\n",
    "## Requesting the Data and Creating a BeautifulSoup\n",
    "\n",
    "Let's begin with requesting the web from the site with `get` method."
   ]
  },
  {
   "cell_type": "code",
   "execution_count": 1,
   "metadata": {
    "ExecuteTime": {
     "end_time": "2020-01-13T05:12:23.275508Z",
     "start_time": "2020-01-13T05:12:20.009898Z"
    }
   },
   "outputs": [],
   "source": [
    "import requests\n",
    "\n",
    "url_get = requests.get('https://www.exchange-rates.org/exchange-rate-history/usd-idr')"
   ]
  },
  {
   "cell_type": "markdown",
   "metadata": {},
   "source": [
    "To visualize what exactly you get from the `request.get`, we can use .content so ee what we exactly get, in here i slice it so it won't make our screen full of the html we get from the page. You can delete the slicing if you want to see what we fully get."
   ]
  },
  {
   "cell_type": "code",
   "execution_count": 2,
   "metadata": {
    "ExecuteTime": {
     "end_time": "2020-01-13T05:12:23.290648Z",
     "start_time": "2020-01-13T05:12:23.277650Z"
    }
   },
   "outputs": [
    {
     "data": {
      "text/plain": [
       "b'!DOCTYPE html>\\r\\n<!--[if lt IE 9]>\\r\\n<html class=\"no-js ie8 oldie\" lang=\"en\" xml:lang=\\'en\\'>\\r\\n<![endif]-->\\r\\n<!--[if gt IE 8]><!--><html class=\"no-js\" lang=\"en\" xml:lang=\\'en\\'><!--<![endif]-->\\r\\n<head>\\r\\n<title>USD to IDR exchange rate history</title>\\r\\n<meta http-equiv=\"X-UA-Compatible\" content=\"IE=edge\">\\r\\n<meta name=\"viewport\" content=\"width=device-width, initial-scale=1, maximum-scale=5\">\\r\\n<meta charset=\"utf-8\" /><meta http-equiv=\"Content-Type\" content=\"text/html; charset=utf-8\" />\\r\\n<base href=\"http'"
      ]
     },
     "execution_count": 2,
     "metadata": {},
     "output_type": "execute_result"
    }
   ],
   "source": [
    "url_get.content[1:500]"
   ]
  },
  {
   "cell_type": "markdown",
   "metadata": {},
   "source": [
    "As we can see we get a very unstructured and complex html, which actually contains the codes needed to show the webpages on your web browser. But we as human still confused what and where we can use that piece of code, so here where we use the beautifulsoup. Beautiful soup class will result a beautifulsoup object. Beautiful Soup transforms a complex HTML document into a complex tree of Python objects. \n",
    "\n",
    "Let's make Beautiful soup object and feel free to explore the object here."
   ]
  },
  {
   "cell_type": "code",
   "execution_count": 3,
   "metadata": {
    "ExecuteTime": {
     "end_time": "2020-01-13T05:12:23.808122Z",
     "start_time": "2020-01-13T05:12:23.292610Z"
    }
   },
   "outputs": [],
   "source": [
    "from bs4 import BeautifulSoup \n",
    "\n",
    "soup = BeautifulSoup(url_get.content,\"html.parser\")"
   ]
  },
  {
   "cell_type": "code",
   "execution_count": 4,
   "metadata": {
    "scrolled": true
   },
   "outputs": [
    {
     "name": "stdout",
     "output_type": "stream",
     "text": [
      "<class 'bs4.BeautifulSoup'>\n"
     ]
    }
   ],
   "source": [
    "print(type(soup))"
   ]
  },
  {
   "cell_type": "code",
   "execution_count": 5,
   "metadata": {
    "scrolled": true
   },
   "outputs": [
    {
     "name": "stdout",
     "output_type": "stream",
     "text": [
      "<!DOCTYPE html>\n",
      "<!--[if lt IE 9]>\r\n",
      "<html class=\"no-js ie8 oldie\" lang=\"en\" xml:lang='en'>\r\n",
      "<![endif]-->\n",
      "<!--[if gt IE 8]><!-->\n",
      "<html class=\"no-js\" lang=\"en\" xml:lang=\"en\">\n",
      " <!--<![endif]-->\n",
      " <head>\n",
      "  <title>\n",
      "   USD to IDR exchange rate history\n",
      "  </title>\n",
      "  <meta content=\"IE=edge\" http-equiv=\"X-UA-Compatible\"/>\n",
      "  <meta content=\"width=device-width, initial-scale=1, maximum-scale=5\" name=\"viewport\"/>\n",
      "  <meta charset=\"utf-8\">\n",
      "   <meta content=\"text/html; charset=utf-8\" http-equiv=\"Content-Type\">\n",
      "   \n"
     ]
    }
   ],
   "source": [
    "print(soup.prettify()[:500])"
   ]
  },
  {
   "cell_type": "markdown",
   "metadata": {},
   "source": [
    "## Finding the right key to scrap the data & Extracting the right information"
   ]
  },
  {
   "cell_type": "markdown",
   "metadata": {},
   "source": [
    "Find the key and put the key into the `.find()` Put all the exploring the right key at this cell. \n",
    "kita akan coba membuat kode menggunakan SOUP untuk mendapatkan data dari Web yang kita inginkan."
   ]
  },
  {
   "cell_type": "code",
   "execution_count": 6,
   "metadata": {
    "ExecuteTime": {
     "end_time": "2020-01-13T05:12:23.878904Z",
     "start_time": "2020-01-13T05:12:23.854974Z"
    },
    "scrolled": false
   },
   "outputs": [
    {
     "name": "stdout",
     "output_type": "stream",
     "text": [
      "tbody>\n",
      " <tr>\n",
      "  <td>\n",
      "   <a class=\"w\" href=\"/exchange-rate-history/usd-idr-2023-09-01\">\n",
      "    September 1, 2023\n",
      "   </a>\n",
      "   <a class=\"n\" href=\"/exchange-rate-history/usd-idr-2023-09-01\">\n",
      "    2023-9-1\n",
      "   </a>\n",
      "  </td>\n",
      "  <td>\n",
      "   <span class=\"w\">\n",
      "    <span class=\"nowrap\">\n",
      "     <span class=\"currencySymbol\">\n",
      "      $\n",
      "     </span>\n",
      "     1 =\n",
      "    </span>\n",
      "    <span class=\"nowrap\">\n",
      "     <span class=\"currencySymbol\">\n",
      "      Rp\n",
      "     </span>\n",
      "     15,258\n",
      "    </span>\n",
      "   </span>\n",
      "   <span class=\"n\">\n",
      "    <span class=\"now\n"
     ]
    }
   ],
   "source": [
    "table = soup.find('tbody') #tbody\n",
    "print(table.prettify()[1:500])"
   ]
  },
  {
   "cell_type": "code",
   "execution_count": 7,
   "metadata": {},
   "outputs": [
    {
     "data": {
      "text/plain": [
       "[<span class=\"w\"><span class=\"nowrap\"><span class=\"currencySymbol\">$</span>1 =</span> <span class=\"nowrap\"><span class=\"currencySymbol\">Rp</span>15,258</span></span>,\n",
       " <span class=\"w\"><span class=\"nowrap\"><span class=\"currencySymbol\">$</span>1 =</span> <span class=\"nowrap\"><span class=\"currencySymbol\">Rp</span>15,225</span></span>,\n",
       " <span class=\"w\"><span class=\"nowrap\"><span class=\"currencySymbol\">$</span>1 =</span> <span class=\"nowrap\"><span class=\"currencySymbol\">Rp</span>15,223</span></span>,\n",
       " <span class=\"w\"><span class=\"nowrap\"><span class=\"currencySymbol\">$</span>1 =</span> <span class=\"nowrap\"><span class=\"currencySymbol\">Rp</span>15,202</span></span>,\n",
       " <span class=\"w\"><span class=\"nowrap\"><span class=\"currencySymbol\">$</span>1 =</span> <span class=\"nowrap\"><span class=\"currencySymbol\">Rp</span>15,248</span></span>]"
      ]
     },
     "execution_count": 7,
     "metadata": {},
     "output_type": "execute_result"
    }
   ],
   "source": [
    "table.find_all('span',attrs={'class':'w'})[:5]"
   ]
  },
  {
   "cell_type": "code",
   "execution_count": 8,
   "metadata": {
    "scrolled": true
   },
   "outputs": [
    {
     "data": {
      "text/plain": [
       "'$1 = Rp15,258'"
      ]
     },
     "execution_count": 8,
     "metadata": {},
     "output_type": "execute_result"
    }
   ],
   "source": [
    "table.find_all('span',attrs={'class':'w'})[0].text"
   ]
  },
  {
   "cell_type": "code",
   "execution_count": 9,
   "metadata": {
    "scrolled": true
   },
   "outputs": [
    {
     "data": {
      "text/plain": [
       "[<a class=\"n\" href=\"/exchange-rate-history/usd-idr-2023-09-01\">2023-9-1</a>,\n",
       " <a class=\"n\" href=\"/exchange-rate-history/usd-idr-2023-08-31\">2023-8-31</a>,\n",
       " <a class=\"n\" href=\"/exchange-rate-history/usd-idr-2023-08-30\">2023-8-30</a>,\n",
       " <a class=\"n\" href=\"/exchange-rate-history/usd-idr-2023-08-29\">2023-8-29</a>,\n",
       " <a class=\"n\" href=\"/exchange-rate-history/usd-idr-2023-08-28\">2023-8-28</a>]"
      ]
     },
     "execution_count": 9,
     "metadata": {},
     "output_type": "execute_result"
    }
   ],
   "source": [
    "table.find_all('a',attrs={'class':'n'})[:5]"
   ]
  },
  {
   "cell_type": "code",
   "execution_count": 10,
   "metadata": {},
   "outputs": [
    {
     "data": {
      "text/plain": [
       "'2023-9-1'"
      ]
     },
     "execution_count": 10,
     "metadata": {},
     "output_type": "execute_result"
    }
   ],
   "source": [
    "table.find_all('a',attrs={'class':'n'})[0].text"
   ]
  },
  {
   "cell_type": "markdown",
   "metadata": {},
   "source": [
    "Finding row length."
   ]
  },
  {
   "cell_type": "code",
   "execution_count": 11,
   "metadata": {},
   "outputs": [
    {
     "data": {
      "text/plain": [
       "130"
      ]
     },
     "execution_count": 11,
     "metadata": {},
     "output_type": "execute_result"
    }
   ],
   "source": [
    "row = table.find_all('a',attrs={'class':'n'})\n",
    "row_length = len(row)\n",
    "row_length"
   ]
  },
  {
   "cell_type": "markdown",
   "metadata": {},
   "source": [
    "extrac menggunakan \"Lopping\""
   ]
  },
  {
   "cell_type": "markdown",
   "metadata": {},
   "source": [
    "Do the scrapping process here \n",
    "Kita akan melakukan scarpping proses. dimana proses ini merupakan langkah penting dalam pengambilan data dari sebuat web. dan setelah kita melakukan scrapping, kita akan coba melakukan analisa untuk mengambil keputusan. Dan data ini akan kita buat visual rate dollar terhadap rupiah."
   ]
  },
  {
   "cell_type": "code",
   "execution_count": 12,
   "metadata": {
    "ExecuteTime": {
     "end_time": "2020-01-13T05:12:24.008256Z",
     "start_time": "2020-01-13T05:12:23.980358Z"
    }
   },
   "outputs": [
    {
     "data": {
      "text/plain": [
       "[('2023-9-1', '$1 = Rp15,258'),\n",
       " ('2023-8-31', '$1 = Rp15,225'),\n",
       " ('2023-8-30', '$1 = Rp15,223'),\n",
       " ('2023-8-29', '$1 = Rp15,202'),\n",
       " ('2023-8-28', '$1 = Rp15,248')]"
      ]
     },
     "execution_count": 12,
     "metadata": {},
     "output_type": "execute_result"
    }
   ],
   "source": [
    "temp = [] #initiating a tuple\n",
    "\n",
    "for i in range(0, row_length):\n",
    "\n",
    "    #scrapping process\n",
    "    #get period\n",
    "    period = table.find_all('a',attrs={'class':'n'})[i].text\n",
    "    period = period.strip()\n",
    "    \n",
    "    exchange = table.find_all('span',attrs={'class':'w'})[i].text\n",
    "    exchange = exchange.strip()\n",
    "      \n",
    "    temp.append((period,exchange))\n",
    "    \n",
    "temp[:5]"
   ]
  },
  {
   "cell_type": "code",
   "execution_count": 13,
   "metadata": {},
   "outputs": [
    {
     "data": {
      "text/plain": [
       "[('2023-3-6', '$1 = Rp15,354'),\n",
       " ('2023-3-7', '$1 = Rp15,429'),\n",
       " ('2023-3-8', '$1 = Rp15,449'),\n",
       " ('2023-3-9', '$1 = Rp15,495'),\n",
       " ('2023-3-10', '$1 = Rp15,503'),\n",
       " ('2023-3-13', '$1 = Rp15,416'),\n",
       " ('2023-3-14', '$1 = Rp15,380'),\n",
       " ('2023-3-15', '$1 = Rp15,459'),\n",
       " ('2023-3-16', '$1 = Rp15,429'),\n",
       " ('2023-3-17', '$1 = Rp15,375')]"
      ]
     },
     "execution_count": 13,
     "metadata": {},
     "output_type": "execute_result"
    }
   ],
   "source": [
    "temp = temp [::-1] # menginvert / membalik list nya\n",
    "temp[:10]"
   ]
  },
  {
   "cell_type": "markdown",
   "metadata": {},
   "source": [
    "## Creating data frame & Data wrangling"
   ]
  },
  {
   "cell_type": "markdown",
   "metadata": {},
   "source": [
    "Put the array into dataframe"
   ]
  },
  {
   "cell_type": "code",
   "execution_count": 14,
   "metadata": {
    "ExecuteTime": {
     "end_time": "2020-01-13T05:12:41.517372Z",
     "start_time": "2020-01-13T05:12:29.130015Z"
    },
    "scrolled": true
   },
   "outputs": [
    {
     "data": {
      "text/html": [
       "<div>\n",
       "<style scoped>\n",
       "    .dataframe tbody tr th:only-of-type {\n",
       "        vertical-align: middle;\n",
       "    }\n",
       "\n",
       "    .dataframe tbody tr th {\n",
       "        vertical-align: top;\n",
       "    }\n",
       "\n",
       "    .dataframe thead th {\n",
       "        text-align: right;\n",
       "    }\n",
       "</style>\n",
       "<table border=\"1\" class=\"dataframe\">\n",
       "  <thead>\n",
       "    <tr style=\"text-align: right;\">\n",
       "      <th></th>\n",
       "      <th>period</th>\n",
       "      <th>daily_exchange</th>\n",
       "    </tr>\n",
       "  </thead>\n",
       "  <tbody>\n",
       "    <tr>\n",
       "      <th>0</th>\n",
       "      <td>2023-3-6</td>\n",
       "      <td>$1 = Rp15,354</td>\n",
       "    </tr>\n",
       "    <tr>\n",
       "      <th>1</th>\n",
       "      <td>2023-3-7</td>\n",
       "      <td>$1 = Rp15,429</td>\n",
       "    </tr>\n",
       "    <tr>\n",
       "      <th>2</th>\n",
       "      <td>2023-3-8</td>\n",
       "      <td>$1 = Rp15,449</td>\n",
       "    </tr>\n",
       "    <tr>\n",
       "      <th>3</th>\n",
       "      <td>2023-3-9</td>\n",
       "      <td>$1 = Rp15,495</td>\n",
       "    </tr>\n",
       "    <tr>\n",
       "      <th>4</th>\n",
       "      <td>2023-3-10</td>\n",
       "      <td>$1 = Rp15,503</td>\n",
       "    </tr>\n",
       "  </tbody>\n",
       "</table>\n",
       "</div>"
      ],
      "text/plain": [
       "      period daily_exchange\n",
       "0   2023-3-6  $1 = Rp15,354\n",
       "1   2023-3-7  $1 = Rp15,429\n",
       "2   2023-3-8  $1 = Rp15,449\n",
       "3   2023-3-9  $1 = Rp15,495\n",
       "4  2023-3-10  $1 = Rp15,503"
      ]
     },
     "execution_count": 14,
     "metadata": {},
     "output_type": "execute_result"
    }
   ],
   "source": [
    "import pandas as pd\n",
    "\n",
    "df = pd.DataFrame(temp, columns = ('period','daily_exchange'))\n",
    "df.head()"
   ]
  },
  {
   "cell_type": "code",
   "execution_count": 15,
   "metadata": {
    "scrolled": false
   },
   "outputs": [],
   "source": [
    "df[['dollar','rupiah']]=df['daily_exchange'].str.split(' = ', expand=True)"
   ]
  },
  {
   "cell_type": "code",
   "execution_count": 16,
   "metadata": {},
   "outputs": [],
   "source": [
    "df[['simbol_Rp','Nominal_Rupiah']]=df['rupiah'].str.split('Rp', expand=True)"
   ]
  },
  {
   "cell_type": "code",
   "execution_count": 17,
   "metadata": {
    "scrolled": false
   },
   "outputs": [
    {
     "data": {
      "text/html": [
       "<div>\n",
       "<style scoped>\n",
       "    .dataframe tbody tr th:only-of-type {\n",
       "        vertical-align: middle;\n",
       "    }\n",
       "\n",
       "    .dataframe tbody tr th {\n",
       "        vertical-align: top;\n",
       "    }\n",
       "\n",
       "    .dataframe thead th {\n",
       "        text-align: right;\n",
       "    }\n",
       "</style>\n",
       "<table border=\"1\" class=\"dataframe\">\n",
       "  <thead>\n",
       "    <tr style=\"text-align: right;\">\n",
       "      <th></th>\n",
       "      <th>period</th>\n",
       "      <th>daily_exchange</th>\n",
       "      <th>dollar</th>\n",
       "      <th>rupiah</th>\n",
       "      <th>simbol_Rp</th>\n",
       "      <th>Nominal_Rupiah</th>\n",
       "    </tr>\n",
       "  </thead>\n",
       "  <tbody>\n",
       "    <tr>\n",
       "      <th>0</th>\n",
       "      <td>2023-3-6</td>\n",
       "      <td>$1 = Rp15,354</td>\n",
       "      <td>$1</td>\n",
       "      <td>Rp15,354</td>\n",
       "      <td></td>\n",
       "      <td>15,354</td>\n",
       "    </tr>\n",
       "    <tr>\n",
       "      <th>1</th>\n",
       "      <td>2023-3-7</td>\n",
       "      <td>$1 = Rp15,429</td>\n",
       "      <td>$1</td>\n",
       "      <td>Rp15,429</td>\n",
       "      <td></td>\n",
       "      <td>15,429</td>\n",
       "    </tr>\n",
       "    <tr>\n",
       "      <th>2</th>\n",
       "      <td>2023-3-8</td>\n",
       "      <td>$1 = Rp15,449</td>\n",
       "      <td>$1</td>\n",
       "      <td>Rp15,449</td>\n",
       "      <td></td>\n",
       "      <td>15,449</td>\n",
       "    </tr>\n",
       "    <tr>\n",
       "      <th>3</th>\n",
       "      <td>2023-3-9</td>\n",
       "      <td>$1 = Rp15,495</td>\n",
       "      <td>$1</td>\n",
       "      <td>Rp15,495</td>\n",
       "      <td></td>\n",
       "      <td>15,495</td>\n",
       "    </tr>\n",
       "    <tr>\n",
       "      <th>4</th>\n",
       "      <td>2023-3-10</td>\n",
       "      <td>$1 = Rp15,503</td>\n",
       "      <td>$1</td>\n",
       "      <td>Rp15,503</td>\n",
       "      <td></td>\n",
       "      <td>15,503</td>\n",
       "    </tr>\n",
       "    <tr>\n",
       "      <th>...</th>\n",
       "      <td>...</td>\n",
       "      <td>...</td>\n",
       "      <td>...</td>\n",
       "      <td>...</td>\n",
       "      <td>...</td>\n",
       "      <td>...</td>\n",
       "    </tr>\n",
       "    <tr>\n",
       "      <th>125</th>\n",
       "      <td>2023-8-28</td>\n",
       "      <td>$1 = Rp15,248</td>\n",
       "      <td>$1</td>\n",
       "      <td>Rp15,248</td>\n",
       "      <td></td>\n",
       "      <td>15,248</td>\n",
       "    </tr>\n",
       "    <tr>\n",
       "      <th>126</th>\n",
       "      <td>2023-8-29</td>\n",
       "      <td>$1 = Rp15,202</td>\n",
       "      <td>$1</td>\n",
       "      <td>Rp15,202</td>\n",
       "      <td></td>\n",
       "      <td>15,202</td>\n",
       "    </tr>\n",
       "    <tr>\n",
       "      <th>127</th>\n",
       "      <td>2023-8-30</td>\n",
       "      <td>$1 = Rp15,223</td>\n",
       "      <td>$1</td>\n",
       "      <td>Rp15,223</td>\n",
       "      <td></td>\n",
       "      <td>15,223</td>\n",
       "    </tr>\n",
       "    <tr>\n",
       "      <th>128</th>\n",
       "      <td>2023-8-31</td>\n",
       "      <td>$1 = Rp15,225</td>\n",
       "      <td>$1</td>\n",
       "      <td>Rp15,225</td>\n",
       "      <td></td>\n",
       "      <td>15,225</td>\n",
       "    </tr>\n",
       "    <tr>\n",
       "      <th>129</th>\n",
       "      <td>2023-9-1</td>\n",
       "      <td>$1 = Rp15,258</td>\n",
       "      <td>$1</td>\n",
       "      <td>Rp15,258</td>\n",
       "      <td></td>\n",
       "      <td>15,258</td>\n",
       "    </tr>\n",
       "  </tbody>\n",
       "</table>\n",
       "<p>130 rows × 6 columns</p>\n",
       "</div>"
      ],
      "text/plain": [
       "        period daily_exchange dollar    rupiah simbol_Rp Nominal_Rupiah\n",
       "0     2023-3-6  $1 = Rp15,354     $1  Rp15,354                   15,354\n",
       "1     2023-3-7  $1 = Rp15,429     $1  Rp15,429                   15,429\n",
       "2     2023-3-8  $1 = Rp15,449     $1  Rp15,449                   15,449\n",
       "3     2023-3-9  $1 = Rp15,495     $1  Rp15,495                   15,495\n",
       "4    2023-3-10  $1 = Rp15,503     $1  Rp15,503                   15,503\n",
       "..         ...            ...    ...       ...       ...            ...\n",
       "125  2023-8-28  $1 = Rp15,248     $1  Rp15,248                   15,248\n",
       "126  2023-8-29  $1 = Rp15,202     $1  Rp15,202                   15,202\n",
       "127  2023-8-30  $1 = Rp15,223     $1  Rp15,223                   15,223\n",
       "128  2023-8-31  $1 = Rp15,225     $1  Rp15,225                   15,225\n",
       "129   2023-9-1  $1 = Rp15,258     $1  Rp15,258                   15,258\n",
       "\n",
       "[130 rows x 6 columns]"
      ]
     },
     "execution_count": 17,
     "metadata": {},
     "output_type": "execute_result"
    }
   ],
   "source": [
    "df"
   ]
  },
  {
   "cell_type": "code",
   "execution_count": 18,
   "metadata": {},
   "outputs": [],
   "source": [
    "df['Nominal_Rupiah']=df['Nominal_Rupiah'].str.replace(',','.')"
   ]
  },
  {
   "cell_type": "code",
   "execution_count": 19,
   "metadata": {},
   "outputs": [],
   "source": [
    "df['Nominal_Rupiah']=df['Nominal_Rupiah'].astype('float64')"
   ]
  },
  {
   "cell_type": "code",
   "execution_count": 20,
   "metadata": {},
   "outputs": [],
   "source": [
    "df['period']=df['period'].astype('datetime64[ns]')"
   ]
  },
  {
   "cell_type": "markdown",
   "metadata": {},
   "source": [
    "Do the data cleaning here.\n",
    "Kita akan membersihkan kolom kolam dari data frame kita, dari data yang tidak diperlukan untuk analisa proses selanjut nya. dimana data yang diperlukan hanya period dan rate dollar terhadap rupiah)"
   ]
  },
  {
   "cell_type": "code",
   "execution_count": 21,
   "metadata": {},
   "outputs": [],
   "source": [
    "df.drop(columns=['daily_exchange','dollar','rupiah','simbol_Rp'], inplace=True)"
   ]
  },
  {
   "cell_type": "markdown",
   "metadata": {},
   "source": [
    "Data visualisation. Setelah membersihkan data dari kolom-kolom yang tidak diperlukan, sekarang kita akan membuat plot pergerakkan rate dollar terhadap rupaih, agar lebih mudah untuk mendapatkan insight."
   ]
  },
  {
   "cell_type": "code",
   "execution_count": 22,
   "metadata": {},
   "outputs": [],
   "source": [
    "df = df.set_index('period')"
   ]
  },
  {
   "cell_type": "code",
   "execution_count": 23,
   "metadata": {},
   "outputs": [
    {
     "data": {
      "text/plain": [
       "<Axes: xlabel='period'>"
      ]
     },
     "execution_count": 23,
     "metadata": {},
     "output_type": "execute_result"
    },
    {
     "data": {
      "image/png": "[encoded data removed]",
      "text/plain": [
       "<Figure size 640x480 with 1 Axes>"
      ]
     },
     "metadata": {},
     "output_type": "display_data"
    }
   ],
   "source": [
    "df.plot()"
   ]
  },
  {
   "cell_type": "markdown",
   "metadata": {},
   "source": [
    "### Implementing your webscrapping to the flask dashboard\n",
    "\n",
    "- Copy paste all of your web scrapping process to the desired position on the `app.py`\n",
    "- Changing the title of the dasboard at `index.html`"
   ]
  },
  {
   "cell_type": "markdown",
   "metadata": {},
   "source": [
    "## Finishing This Notebook with Your Analysis and Conclusion\n",
    "\n",
    "First you can do start with making the data visualisation. "
   ]
  },
  {
   "cell_type": "code",
   "execution_count": 24,
   "metadata": {
    "ExecuteTime": {
     "end_time": "2020-01-13T05:20:56.208237Z",
     "start_time": "2020-01-13T05:20:56.076043Z"
    }
   },
   "outputs": [
    {
     "data": {
      "text/plain": [
       "<Axes: xlabel='period'>"
      ]
     },
     "execution_count": 24,
     "metadata": {},
     "output_type": "execute_result"
    },
    {
     "data": {
      "image/png": "[encoded data removed]",
      "text/plain": [
       "<Figure size 640x480 with 1 Axes>"
      ]
     },
     "metadata": {},
     "output_type": "display_data"
    }
   ],
   "source": [
    "df.plot()"
   ]
  },
  {
   "cell_type": "markdown",
   "metadata": {},
   "source": [
    "(Put your analysis and conclusion here.)\n",
    "- Nilai tukar dollar terhadap rupiah mencapai nilai tertinggi nya di sekitar bulan Maret 2023\n",
    "- Nilai tukar dollar terhadap rupiah mencapai nilai terendah nya di sekitar bulan Mei 2023\n",
    "- Jaga kesehatan Finansial, karena nilai tukar ini berfluktuasi cukup besar, maka siapkan dana darurat. dan hindari hutang\n",
    "- Mulai coba dipikirkan untuk medeverfisiksi asset ke dalam bentuk dollar terutama ketika rate dollar lagi turun, seperti di bulan Mei 2023."
   ]
  },
  {
   "cell_type": "markdown",
   "metadata": {},
   "source": [
    "### Implement it at the webapps\n",
    "\n",
    "- You can create additional analysis from the data.\n",
    "- Implement it to the dashboard with at `app.py` dan `index.html`."
   ]
  }
 ],
 "metadata": {
  "kernelspec": {
   "display_name": "Python 3 (ipykernel)",
   "language": "python",
   "name": "python3"
  },
  "language_info": {
   "codemirror_mode": {
    "name": "ipython",
    "version": 3
   },
   "file_extension": ".py",
   "mimetype": "text/x-python",
   "name": "python",
   "nbconvert_exporter": "python",
   "pygments_lexer": "ipython3",
   "version": "3.10.12"
  }
 },
 "nbformat": 4,
 "nbformat_minor": 2
}
